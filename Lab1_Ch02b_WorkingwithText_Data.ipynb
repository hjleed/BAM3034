{
  "cells": [
    {
      "cell_type": "markdown",
      "metadata": {
        "id": "view-in-github",
        "colab_type": "text"
      },
      "source": [
        "<a href=\"https://colab.research.google.com/github/hjleed/BAM3034/blob/main/Lab1_Ch02b_WorkingwithText_Data.ipynb\" target=\"_parent\"><img src=\"https://colab.research.google.com/assets/colab-badge.svg\" alt=\"Open In Colab\"/></a>"
      ]
    },
    {
      "cell_type": "raw",
      "metadata": {
        "id": "qzPGPwR6FmiX"
      },
      "source": [
        "\"title\": \"Lab1: Python Refresher\",\n",
        "\"Course\": [\n",
        "  { \"code\": \"BAM- 3034\" },\n",
        "  { \"name\": \"Sentiment Analysis & Text Mining\" }\n",
        "  ]\n",
        "\"Description\": [ \"Working with Text Data using Python. Practice to practice Python text functions.\"]"
      ]
    },
    {
      "cell_type": "markdown",
      "metadata": {
        "id": "Rp4eXGdBFmiY"
      },
      "source": [
        "# String types"
      ]
    },
    {
      "cell_type": "code",
      "execution_count": 1,
      "metadata": {
        "id": "HnE6ZeQ4FmiY",
        "outputId": "424d3edf-ad71-4324-eb11-0afe3d6fca2c",
        "colab": {
          "base_uri": "https://localhost:8080/"
        }
      },
      "outputs": [
        {
          "output_type": "stream",
          "name": "stdout",
          "text": [
            "ID: 139921119488288\n",
            "Type: <class 'str'>\n",
            "Value: This is a String\n"
          ]
        }
      ],
      "source": [
        "new_string = \"This is a String\"  # storing a string\n",
        "\n",
        "print('ID:', id(new_string))  # shows the object identifier (address)\n",
        "print('Type:', type(new_string))  # shows the object type\n",
        "print('Value:', new_string)  # shows the object value"
      ]
    },
    {
      "cell_type": "code",
      "execution_count": 2,
      "metadata": {
        "id": "WHPaMSszFmia",
        "outputId": "d3a1ef0a-dd9a-468c-ed73-8ca8b33b1e93",
        "colab": {
          "base_uri": "https://localhost:8080/"
        }
      },
      "outputs": [
        {
          "output_type": "stream",
          "name": "stdout",
          "text": [
            "Hello! I'm a simple string\n"
          ]
        }
      ],
      "source": [
        "# simple string\n",
        "simple_string = 'Hello!' + \" I'm a simple string\"\n",
        "print(simple_string)"
      ]
    },
    {
      "cell_type": "code",
      "execution_count": 3,
      "metadata": {
        "id": "6d1mkgUbFmia",
        "outputId": "4671eb99-9009-4fde-ad62-31d68960098c",
        "colab": {
          "base_uri": "https://localhost:8080/",
          "height": 36
        }
      },
      "outputs": [
        {
          "output_type": "execute_result",
          "data": {
            "text/plain": [
              "\"Hello I'm\\na multi-line\\nstring!\""
            ],
            "application/vnd.google.colaboratory.intrinsic+json": {
              "type": "string"
            }
          },
          "metadata": {},
          "execution_count": 3
        }
      ],
      "source": [
        "# multi-line string, note the \\n (newline) escape character automatically created\n",
        "multi_line_string = \"\"\"Hello I'm\n",
        "a multi-line\n",
        "string!\"\"\"\n",
        "\n",
        "multi_line_string"
      ]
    },
    {
      "cell_type": "code",
      "execution_count": 4,
      "metadata": {
        "id": "72ihGuXeFmia",
        "outputId": "0962ff02-6280-49f8-e912-468e3507bf36",
        "colab": {
          "base_uri": "https://localhost:8080/"
        }
      },
      "outputs": [
        {
          "output_type": "stream",
          "name": "stdout",
          "text": [
            "Hello I'm\n",
            "a multi-line\n",
            "string!\n"
          ]
        }
      ],
      "source": [
        "print(multi_line_string)"
      ]
    },
    {
      "cell_type": "code",
      "execution_count": 5,
      "metadata": {
        "id": "Y3lWWmIGFmia",
        "outputId": "3507a09b-98cd-4d47-c747-1000ac644704",
        "colab": {
          "base_uri": "https://localhost:8080/"
        }
      },
      "outputs": [
        {
          "output_type": "stream",
          "name": "stdout",
          "text": [
            "hw.txt\n"
          ]
        }
      ],
      "source": [
        "# Normal string with escape sequences leading to a wrong file path!\n",
        "escaped_string = \"hw.txt\"\n",
        "print(escaped_string)  # will cause errors if we try to open a file here"
      ]
    },
    {
      "cell_type": "code",
      "source": [],
      "metadata": {
        "id": "guGS3eDOHYX6"
      },
      "execution_count": 5,
      "outputs": []
    },
    {
      "cell_type": "code",
      "execution_count": 6,
      "metadata": {
        "id": "acBrI68VFmib",
        "outputId": "122407a3-dc64-4d1c-9e43-fb1a78c5be1c",
        "colab": {
          "base_uri": "https://localhost:8080/"
        }
      },
      "outputs": [
        {
          "output_type": "stream",
          "name": "stdout",
          "text": [
            "hw.txt\n"
          ]
        }
      ],
      "source": [
        "# raw string keeping the backslashes in its normal form\n",
        "raw_string = r'hw.txt'\n",
        "print(raw_string)"
      ]
    },
    {
      "cell_type": "code",
      "execution_count": 7,
      "metadata": {
        "id": "krE-laLwFmib",
        "outputId": "1dbf8426-a659-4ddd-8d45-5ddd84c89ab9",
        "colab": {
          "base_uri": "https://localhost:8080/"
        }
      },
      "outputs": [
        {
          "output_type": "stream",
          "name": "stdout",
          "text": [
            "Hèllo!\n"
          ]
        }
      ],
      "source": [
        "# unicode string literals\n",
        "string_with_unicode = 'H\\u00e8llo!'\n",
        "print(string_with_unicode)"
      ]
    },
    {
      "cell_type": "code",
      "execution_count": 8,
      "metadata": {
        "id": "1DBolBImFmib",
        "outputId": "2c303918-f5c1-4b6e-8895-e8725075958c",
        "colab": {
          "base_uri": "https://localhost:8080/"
        }
      },
      "outputs": [
        {
          "output_type": "stream",
          "name": "stdout",
          "text": [
            "I love Pizza 🍕!  Shall we book a cab 🚕 to get pizza?\n"
          ]
        }
      ],
      "source": [
        "more_unicode = 'I love Pizza 🍕!  Shall we book a cab 🚕 to get pizza?'\n",
        "print(more_unicode)"
      ]
    },
    {
      "cell_type": "code",
      "execution_count": 9,
      "metadata": {
        "id": "XrhcuKVbFmib",
        "outputId": "a6bbd732-aa1e-4181-ef80-e292e4a35bdd",
        "colab": {
          "base_uri": "https://localhost:8080/"
        }
      },
      "outputs": [
        {
          "output_type": "stream",
          "name": "stdout",
          "text": [
            "Hèllo!\n",
            "I love Pizza 🍕!  Shall we book a cab 🚕 to get pizza?\n"
          ]
        }
      ],
      "source": [
        "print(string_with_unicode + '\\n' + more_unicode)"
      ]
    },
    {
      "cell_type": "code",
      "execution_count": 10,
      "metadata": {
        "id": "0BT9za7MFmic",
        "outputId": "040e4415-41be-41df-e9c2-a95b97eadd09",
        "colab": {
          "base_uri": "https://localhost:8080/",
          "height": 36
        }
      },
      "outputs": [
        {
          "output_type": "execute_result",
          "data": {
            "text/plain": [
              "'Hèllo! I love Pizza 🍕!  Shall we book a cab 🚕 to get pizza?'"
            ],
            "application/vnd.google.colaboratory.intrinsic+json": {
              "type": "string"
            }
          },
          "metadata": {},
          "execution_count": 10
        }
      ],
      "source": [
        "' '.join([string_with_unicode, more_unicode])"
      ]
    },
    {
      "cell_type": "code",
      "execution_count": 11,
      "metadata": {
        "id": "qMKpd8zAFmic",
        "outputId": "16558dbd-c4d1-484d-aa34-d6ec043e72a7",
        "colab": {
          "base_uri": "https://localhost:8080/",
          "height": 36
        }
      },
      "outputs": [
        {
          "output_type": "execute_result",
          "data": {
            "text/plain": [
              "'?azzip teg ot 🚕 bac a koob ew llahS  !🍕 azziP evol I'"
            ],
            "application/vnd.google.colaboratory.intrinsic+json": {
              "type": "string"
            }
          },
          "metadata": {},
          "execution_count": 11
        }
      ],
      "source": [
        "more_unicode[::-1]  # reverses the string"
      ]
    },
    {
      "cell_type": "markdown",
      "metadata": {
        "id": "mIZv2ykwFmic"
      },
      "source": [
        "# String operations\n"
      ]
    },
    {
      "cell_type": "markdown",
      "metadata": {
        "id": "m7a0uRDFFmic"
      },
      "source": [
        "## Different ways of String concatenation\n"
      ]
    },
    {
      "cell_type": "code",
      "execution_count": 12,
      "metadata": {
        "scrolled": true,
        "id": "QVa7CGXLFmic",
        "outputId": "6b9cd6e1-1498-45c1-d8a9-d23760abc361",
        "colab": {
          "base_uri": "https://localhost:8080/",
          "height": 36
        }
      },
      "outputs": [
        {
          "output_type": "execute_result",
          "data": {
            "text/plain": [
              "'Hello 😊 and welcome to Python 🐍!'"
            ],
            "application/vnd.google.colaboratory.intrinsic+json": {
              "type": "string"
            }
          },
          "metadata": {},
          "execution_count": 12
        }
      ],
      "source": [
        "'Hello 😊' + ' and welcome ' + 'to Python 🐍!'"
      ]
    },
    {
      "cell_type": "code",
      "execution_count": 13,
      "metadata": {
        "id": "0d8PnXhxFmic",
        "outputId": "d6e3cb29-49fe-4ed7-b4bc-0fb4dea410ea",
        "colab": {
          "base_uri": "https://localhost:8080/",
          "height": 36
        }
      },
      "outputs": [
        {
          "output_type": "execute_result",
          "data": {
            "text/plain": [
              "'Hello 😊 and welcome to Python 🐍!'"
            ],
            "application/vnd.google.colaboratory.intrinsic+json": {
              "type": "string"
            }
          },
          "metadata": {},
          "execution_count": 13
        }
      ],
      "source": [
        "'Hello 😊' ' and welcome ' 'to Python 🐍!'"
      ]
    },
    {
      "cell_type": "code",
      "execution_count": 14,
      "metadata": {
        "id": "yw6YZVKHFmid"
      },
      "outputs": [],
      "source": [
        "# concatenation of variables and literals"
      ]
    },
    {
      "cell_type": "code",
      "execution_count": 15,
      "metadata": {
        "id": "npfTLQVwFmid",
        "outputId": "a5835e8d-c9a1-47f8-d0fe-b6e6c8c642ca",
        "colab": {
          "base_uri": "https://localhost:8080/",
          "height": 36
        }
      },
      "outputs": [
        {
          "output_type": "execute_result",
          "data": {
            "text/plain": [
              "'Hello 😊 Python 💻!'"
            ],
            "application/vnd.google.colaboratory.intrinsic+json": {
              "type": "string"
            }
          },
          "metadata": {},
          "execution_count": 15
        }
      ],
      "source": [
        "s1 = 'Python 💻!'\n",
        "'Hello 😊 ' + s1"
      ]
    },
    {
      "cell_type": "code",
      "execution_count": 16,
      "metadata": {
        "id": "qmyRsUwcFmid"
      },
      "outputs": [],
      "source": [
        "# some more ways of concatenating strings"
      ]
    },
    {
      "cell_type": "code",
      "execution_count": 17,
      "metadata": {
        "id": "BkdwG8K1Fmid",
        "outputId": "48ede516-181a-43f0-ee15-41b012ecc404",
        "colab": {
          "base_uri": "https://localhost:8080/",
          "height": 36
        }
      },
      "outputs": [
        {
          "output_type": "execute_result",
          "data": {
            "text/plain": [
              "'--🐍Python🐍----🐍Python🐍----🐍Python🐍----🐍Python🐍----🐍Python🐍--'"
            ],
            "application/vnd.google.colaboratory.intrinsic+json": {
              "type": "string"
            }
          },
          "metadata": {},
          "execution_count": 17
        }
      ],
      "source": [
        "s2 = '--🐍Python🐍--'\n",
        "s2 * 5"
      ]
    },
    {
      "cell_type": "code",
      "execution_count": 18,
      "metadata": {
        "id": "Ru8oT1K5Fmid",
        "outputId": "79ccd894-7255-489c-a449-12ee47b56863",
        "colab": {
          "base_uri": "https://localhost:8080/",
          "height": 36
        }
      },
      "outputs": [
        {
          "output_type": "execute_result",
          "data": {
            "text/plain": [
              "'Python 💻!--🐍Python🐍--'"
            ],
            "application/vnd.google.colaboratory.intrinsic+json": {
              "type": "string"
            }
          },
          "metadata": {},
          "execution_count": 18
        }
      ],
      "source": [
        "s1 + s2"
      ]
    },
    {
      "cell_type": "code",
      "execution_count": 19,
      "metadata": {
        "id": "ZVK1bD3iFmid",
        "outputId": "18eaf02e-6606-49b3-fa03-da16e4a72775",
        "colab": {
          "base_uri": "https://localhost:8080/",
          "height": 36
        }
      },
      "outputs": [
        {
          "output_type": "execute_result",
          "data": {
            "text/plain": [
              "'Python 💻!--🐍Python🐍--Python 💻!--🐍Python🐍--Python 💻!--🐍Python🐍--'"
            ],
            "application/vnd.google.colaboratory.intrinsic+json": {
              "type": "string"
            }
          },
          "metadata": {},
          "execution_count": 19
        }
      ],
      "source": [
        "(s1 + s2)*3"
      ]
    },
    {
      "cell_type": "code",
      "execution_count": 20,
      "metadata": {
        "id": "Za9TettrFmid"
      },
      "outputs": [],
      "source": [
        "# concatenating several strings together in parentheses"
      ]
    },
    {
      "cell_type": "code",
      "execution_count": 21,
      "metadata": {
        "id": "MkUEwhNLFmid",
        "outputId": "00ac7cd2-1f77-488a-eaae-c8c8ff3aaf83",
        "colab": {
          "base_uri": "https://localhost:8080/",
          "height": 36
        }
      },
      "outputs": [
        {
          "output_type": "execute_result",
          "data": {
            "text/plain": [
              "'This is another way to concatenate several strings!'"
            ],
            "application/vnd.google.colaboratory.intrinsic+json": {
              "type": "string"
            }
          },
          "metadata": {},
          "execution_count": 21
        }
      ],
      "source": [
        "s3 = ('This '\n",
        "      'is another way '\n",
        "      'to concatenate '\n",
        "      'several strings!')\n",
        "s3"
      ]
    },
    {
      "cell_type": "code",
      "execution_count": 22,
      "metadata": {
        "id": "X_kDmWj-Fmid"
      },
      "outputs": [],
      "source": [
        "# checking for substrings in a string"
      ]
    },
    {
      "cell_type": "code",
      "execution_count": 23,
      "metadata": {
        "id": "TSz-Qm9SFmid",
        "outputId": "c3c450d1-84ce-46f8-bb5e-1934505c3589",
        "colab": {
          "base_uri": "https://localhost:8080/"
        }
      },
      "outputs": [
        {
          "output_type": "execute_result",
          "data": {
            "text/plain": [
              "True"
            ]
          },
          "metadata": {},
          "execution_count": 23
        }
      ],
      "source": [
        "'way' in s3"
      ]
    },
    {
      "cell_type": "code",
      "execution_count": 24,
      "metadata": {
        "id": "N5KrLvkKFmie",
        "outputId": "7e9d4f9a-3395-497c-c4d1-61f5f74ac3b0",
        "colab": {
          "base_uri": "https://localhost:8080/"
        }
      },
      "outputs": [
        {
          "output_type": "execute_result",
          "data": {
            "text/plain": [
              "False"
            ]
          },
          "metadata": {},
          "execution_count": 24
        }
      ],
      "source": [
        "'python' in s3"
      ]
    },
    {
      "cell_type": "code",
      "execution_count": 25,
      "metadata": {
        "id": "-gmUiz9aFmie"
      },
      "outputs": [],
      "source": [
        "# computing total length of the string"
      ]
    },
    {
      "cell_type": "code",
      "execution_count": 26,
      "metadata": {
        "id": "cqMoQC8RFmie",
        "outputId": "dd1148db-4183-4fe1-c1ce-d694365562ab",
        "colab": {
          "base_uri": "https://localhost:8080/"
        }
      },
      "outputs": [
        {
          "output_type": "execute_result",
          "data": {
            "text/plain": [
              "51"
            ]
          },
          "metadata": {},
          "execution_count": 26
        }
      ],
      "source": [
        "len(s3)"
      ]
    },
    {
      "cell_type": "markdown",
      "metadata": {
        "id": "cufT3w1BFmie"
      },
      "source": [
        "# String indexing and slicing"
      ]
    },
    {
      "cell_type": "code",
      "execution_count": 27,
      "metadata": {
        "id": "_c4r6P6RFmie",
        "outputId": "508bb069-1322-4c5d-8b81-f0717b22d7cb",
        "colab": {
          "base_uri": "https://localhost:8080/"
        }
      },
      "outputs": [
        {
          "output_type": "execute_result",
          "data": {
            "text/plain": [
              "('PYTHON', str)"
            ]
          },
          "metadata": {},
          "execution_count": 27
        }
      ],
      "source": [
        "# creating a string\n",
        "s = 'PYTHON'\n",
        "s, type(s)"
      ]
    },
    {
      "cell_type": "markdown",
      "metadata": {
        "id": "R7iKqiKWFmie"
      },
      "source": [
        "## String indexing"
      ]
    },
    {
      "cell_type": "code",
      "execution_count": 28,
      "metadata": {
        "id": "r6FSiqNqFmie",
        "outputId": "f58a1440-45a9-4bb7-ea0f-b3d3b6f4b583",
        "colab": {
          "base_uri": "https://localhost:8080/"
        }
      },
      "outputs": [
        {
          "output_type": "stream",
          "name": "stdout",
          "text": [
            "Character -> P has index-> 0\n",
            "Character -> Y has index-> 1\n",
            "Character -> T has index-> 2\n",
            "Character -> H has index-> 3\n",
            "Character -> O has index-> 4\n",
            "Character -> N has index-> 5\n"
          ]
        }
      ],
      "source": [
        "# depicting string indexes\n",
        "for index, character in enumerate(s):\n",
        "    print('Character ->', character, 'has index->', index)"
      ]
    },
    {
      "cell_type": "code",
      "execution_count": 29,
      "metadata": {
        "id": "kpCJk9VTFmie",
        "outputId": "af312aac-e09d-42cc-9972-768817601252",
        "colab": {
          "base_uri": "https://localhost:8080/"
        }
      },
      "outputs": [
        {
          "output_type": "execute_result",
          "data": {
            "text/plain": [
              "('P', 'Y', 'T', 'H', 'O', 'N')"
            ]
          },
          "metadata": {},
          "execution_count": 29
        }
      ],
      "source": [
        "s[0], s[1], s[2], s[3], s[4], s[5]"
      ]
    },
    {
      "cell_type": "code",
      "execution_count": 30,
      "metadata": {
        "id": "O_8g9muwFmie",
        "outputId": "7a82b46f-785b-4c80-9dbc-745ab4d580be",
        "colab": {
          "base_uri": "https://localhost:8080/"
        }
      },
      "outputs": [
        {
          "output_type": "execute_result",
          "data": {
            "text/plain": [
              "('N', 'O', 'H', 'T', 'Y', 'P')"
            ]
          },
          "metadata": {},
          "execution_count": 30
        }
      ],
      "source": [
        "s[-1], s[-2], s[-3], s[-4], s[-5], s[-6]"
      ]
    },
    {
      "cell_type": "markdown",
      "metadata": {
        "id": "yyCNKHhYFmie"
      },
      "source": [
        "## String slicing"
      ]
    },
    {
      "cell_type": "code",
      "execution_count": 31,
      "metadata": {
        "id": "NDGotFUrFmie",
        "outputId": "0b47502f-9eaf-4d78-b209-32d183eb1759",
        "colab": {
          "base_uri": "https://localhost:8080/",
          "height": 36
        }
      },
      "outputs": [
        {
          "output_type": "execute_result",
          "data": {
            "text/plain": [
              "'PYTHON'"
            ],
            "application/vnd.google.colaboratory.intrinsic+json": {
              "type": "string"
            }
          },
          "metadata": {},
          "execution_count": 31
        }
      ],
      "source": [
        "s[:]"
      ]
    },
    {
      "cell_type": "code",
      "execution_count": 32,
      "metadata": {
        "id": "CzzrI5fiFmie",
        "outputId": "66294b22-3254-4b22-a535-c3f3380839f1",
        "colab": {
          "base_uri": "https://localhost:8080/",
          "height": 36
        }
      },
      "outputs": [
        {
          "output_type": "execute_result",
          "data": {
            "text/plain": [
              "'YTH'"
            ],
            "application/vnd.google.colaboratory.intrinsic+json": {
              "type": "string"
            }
          },
          "metadata": {},
          "execution_count": 32
        }
      ],
      "source": [
        "s[1:4]"
      ]
    },
    {
      "cell_type": "code",
      "execution_count": 33,
      "metadata": {
        "id": "bewo4LPSFmif",
        "outputId": "8757a250-3e07-4dea-c665-23c14c50c7cd",
        "colab": {
          "base_uri": "https://localhost:8080/"
        }
      },
      "outputs": [
        {
          "output_type": "execute_result",
          "data": {
            "text/plain": [
              "('PYT', 'HON')"
            ]
          },
          "metadata": {},
          "execution_count": 33
        }
      ],
      "source": [
        "s[:3], s[3:]"
      ]
    },
    {
      "cell_type": "code",
      "execution_count": 34,
      "metadata": {
        "id": "VdS8vDEqFmif",
        "outputId": "b73080ef-4951-4d2e-d54d-64386d770298",
        "colab": {
          "base_uri": "https://localhost:8080/",
          "height": 36
        }
      },
      "outputs": [
        {
          "output_type": "execute_result",
          "data": {
            "text/plain": [
              "'HON'"
            ],
            "application/vnd.google.colaboratory.intrinsic+json": {
              "type": "string"
            }
          },
          "metadata": {},
          "execution_count": 34
        }
      ],
      "source": [
        "s[-3:]"
      ]
    },
    {
      "cell_type": "code",
      "execution_count": 35,
      "metadata": {
        "id": "P2ro7euZFmif",
        "outputId": "8e4152a9-3820-469c-8e32-4808317b9a08",
        "colab": {
          "base_uri": "https://localhost:8080/",
          "height": 36
        }
      },
      "outputs": [
        {
          "output_type": "execute_result",
          "data": {
            "text/plain": [
              "'PYTHON'"
            ],
            "application/vnd.google.colaboratory.intrinsic+json": {
              "type": "string"
            }
          },
          "metadata": {},
          "execution_count": 35
        }
      ],
      "source": [
        "s[:3] + s[3:]"
      ]
    },
    {
      "cell_type": "code",
      "execution_count": 36,
      "metadata": {
        "id": "6Vylg_B2Fmif",
        "outputId": "8c882e9b-ddd7-4f99-a00d-2e8e1e05b371",
        "colab": {
          "base_uri": "https://localhost:8080/",
          "height": 36
        }
      },
      "outputs": [
        {
          "output_type": "execute_result",
          "data": {
            "text/plain": [
              "'PYTHON'"
            ],
            "application/vnd.google.colaboratory.intrinsic+json": {
              "type": "string"
            }
          },
          "metadata": {},
          "execution_count": 36
        }
      ],
      "source": [
        "s[:3] + s[-3:]"
      ]
    },
    {
      "cell_type": "markdown",
      "metadata": {
        "id": "BfnPB2igFmif"
      },
      "source": [
        "## String slicing with offsets"
      ]
    },
    {
      "cell_type": "code",
      "execution_count": 37,
      "metadata": {
        "id": "IwUL6ecSFmig",
        "outputId": "bd3eecd0-4afe-494a-c36f-b7cda7a89c04",
        "colab": {
          "base_uri": "https://localhost:8080/",
          "height": 36
        }
      },
      "outputs": [
        {
          "output_type": "execute_result",
          "data": {
            "text/plain": [
              "'PYTHON'"
            ],
            "application/vnd.google.colaboratory.intrinsic+json": {
              "type": "string"
            }
          },
          "metadata": {},
          "execution_count": 37
        }
      ],
      "source": [
        "s[::1]  # no offset"
      ]
    },
    {
      "cell_type": "code",
      "execution_count": 38,
      "metadata": {
        "id": "6mMqmRcOFmig",
        "outputId": "946942f7-d80c-4e31-aa3c-c6c54b490737",
        "colab": {
          "base_uri": "https://localhost:8080/",
          "height": 36
        }
      },
      "outputs": [
        {
          "output_type": "execute_result",
          "data": {
            "text/plain": [
              "'PTO'"
            ],
            "application/vnd.google.colaboratory.intrinsic+json": {
              "type": "string"
            }
          },
          "metadata": {},
          "execution_count": 38
        }
      ],
      "source": [
        "s[::2]  # print every 2nd character in string"
      ]
    },
    {
      "cell_type": "code",
      "execution_count": 39,
      "metadata": {
        "id": "2sJpSXHEFmig",
        "outputId": "125a9f12-817d-4d26-eabb-86b990e6f9f0",
        "colab": {
          "base_uri": "https://localhost:8080/"
        }
      },
      "outputs": [
        {
          "output_type": "stream",
          "name": "stdout",
          "text": [
            "Original String id: 139921317201584\n",
            "XYTHON\n",
            "New String id: 139921112725168\n"
          ]
        }
      ],
      "source": [
        "print('Original String id:', id(s))\n",
        "# creates a new string\n",
        "s = 'X' + s[1:]\n",
        "print(s)\n",
        "print('New String id:', id(s))"
      ]
    },
    {
      "cell_type": "markdown",
      "metadata": {
        "id": "h3cLL_AXFmig"
      },
      "source": [
        "# Useful String methods"
      ]
    },
    {
      "cell_type": "markdown",
      "metadata": {
        "id": "b6g8BLHGFmig"
      },
      "source": [
        "## Case conversions"
      ]
    },
    {
      "cell_type": "code",
      "execution_count": 40,
      "metadata": {
        "id": "mW2wCl2UFmig"
      },
      "outputs": [],
      "source": [
        "s = 'python is great'"
      ]
    },
    {
      "cell_type": "code",
      "execution_count": 41,
      "metadata": {
        "id": "etAUXM1IFmig",
        "outputId": "d6d018b4-f75c-4c99-bc25-a32d3699548b",
        "colab": {
          "base_uri": "https://localhost:8080/",
          "height": 36
        }
      },
      "outputs": [
        {
          "output_type": "execute_result",
          "data": {
            "text/plain": [
              "'Python is great'"
            ],
            "application/vnd.google.colaboratory.intrinsic+json": {
              "type": "string"
            }
          },
          "metadata": {},
          "execution_count": 41
        }
      ],
      "source": [
        "s.capitalize()"
      ]
    },
    {
      "cell_type": "code",
      "execution_count": 42,
      "metadata": {
        "id": "bums7E-IFmig",
        "outputId": "c66baaf1-afc0-42fd-acff-e9edfbda49cc",
        "colab": {
          "base_uri": "https://localhost:8080/",
          "height": 36
        }
      },
      "outputs": [
        {
          "output_type": "execute_result",
          "data": {
            "text/plain": [
              "'PYTHON IS GREAT'"
            ],
            "application/vnd.google.colaboratory.intrinsic+json": {
              "type": "string"
            }
          },
          "metadata": {},
          "execution_count": 42
        }
      ],
      "source": [
        "s.upper()"
      ]
    },
    {
      "cell_type": "code",
      "execution_count": 43,
      "metadata": {
        "id": "1T_SLuh6Fmig",
        "outputId": "a0debed5-7981-481d-c5f5-89f64977b69f",
        "colab": {
          "base_uri": "https://localhost:8080/",
          "height": 36
        }
      },
      "outputs": [
        {
          "output_type": "execute_result",
          "data": {
            "text/plain": [
              "'Python Is Great'"
            ],
            "application/vnd.google.colaboratory.intrinsic+json": {
              "type": "string"
            }
          },
          "metadata": {},
          "execution_count": 43
        }
      ],
      "source": [
        "s.title()"
      ]
    },
    {
      "cell_type": "markdown",
      "metadata": {
        "id": "bLRt7xpuFmig"
      },
      "source": [
        "## String replace"
      ]
    },
    {
      "cell_type": "code",
      "execution_count": 44,
      "metadata": {
        "id": "2LBjN3tZFmig",
        "outputId": "2bbadcb7-a0e3-444e-d31f-b48379019bfd",
        "colab": {
          "base_uri": "https://localhost:8080/",
          "height": 36
        }
      },
      "outputs": [
        {
          "output_type": "execute_result",
          "data": {
            "text/plain": [
              "'NLP is great'"
            ],
            "application/vnd.google.colaboratory.intrinsic+json": {
              "type": "string"
            }
          },
          "metadata": {},
          "execution_count": 44
        }
      ],
      "source": [
        "s.replace('python', 'NLP')"
      ]
    },
    {
      "cell_type": "markdown",
      "metadata": {
        "id": "zeW_ksHNFmig"
      },
      "source": [
        "## Numeric checks"
      ]
    },
    {
      "cell_type": "code",
      "execution_count": 45,
      "metadata": {
        "id": "Uj33Z33aFmih",
        "outputId": "d2ca885c-6df4-4696-8ab8-5fe8ba68263d",
        "colab": {
          "base_uri": "https://localhost:8080/"
        }
      },
      "outputs": [
        {
          "output_type": "execute_result",
          "data": {
            "text/plain": [
              "True"
            ]
          },
          "metadata": {},
          "execution_count": 45
        }
      ],
      "source": [
        "'12345'.isdecimal()"
      ]
    },
    {
      "cell_type": "code",
      "execution_count": 46,
      "metadata": {
        "id": "Rz1to2zZFmih",
        "outputId": "278b5d2e-60df-4caf-95b1-50a280e91104",
        "colab": {
          "base_uri": "https://localhost:8080/"
        }
      },
      "outputs": [
        {
          "output_type": "execute_result",
          "data": {
            "text/plain": [
              "False"
            ]
          },
          "metadata": {},
          "execution_count": 46
        }
      ],
      "source": [
        "'apollo11'.isdecimal()"
      ]
    },
    {
      "cell_type": "markdown",
      "metadata": {
        "id": "1Kzo7PVHFmih"
      },
      "source": [
        "## Alphabet checks"
      ]
    },
    {
      "cell_type": "code",
      "execution_count": 47,
      "metadata": {
        "id": "ymPKbFJJFmih",
        "outputId": "318c4f41-c210-48af-db35-09cae8a54deb",
        "colab": {
          "base_uri": "https://localhost:8080/"
        }
      },
      "outputs": [
        {
          "output_type": "execute_result",
          "data": {
            "text/plain": [
              "True"
            ]
          },
          "metadata": {},
          "execution_count": 47
        }
      ],
      "source": [
        "'python'.isalpha()"
      ]
    },
    {
      "cell_type": "code",
      "execution_count": 48,
      "metadata": {
        "id": "sKSAp4sRFmih",
        "outputId": "f36fcecd-a4ec-4e09-a4aa-ab4e86c235d5",
        "colab": {
          "base_uri": "https://localhost:8080/"
        }
      },
      "outputs": [
        {
          "output_type": "execute_result",
          "data": {
            "text/plain": [
              "False"
            ]
          },
          "metadata": {},
          "execution_count": 48
        }
      ],
      "source": [
        "'number1'.isalpha()"
      ]
    },
    {
      "cell_type": "markdown",
      "metadata": {
        "id": "8uL_bOqiFmih"
      },
      "source": [
        "## Alphanumeric checks"
      ]
    },
    {
      "cell_type": "code",
      "execution_count": 49,
      "metadata": {
        "id": "A3MI4J9YFmih",
        "outputId": "8e0e01de-dada-428d-9bd1-6769fa3fcf44",
        "colab": {
          "base_uri": "https://localhost:8080/"
        }
      },
      "outputs": [
        {
          "output_type": "execute_result",
          "data": {
            "text/plain": [
              "True"
            ]
          },
          "metadata": {},
          "execution_count": 49
        }
      ],
      "source": [
        "'total'.isalnum()"
      ]
    },
    {
      "cell_type": "code",
      "execution_count": 50,
      "metadata": {
        "id": "h-nkSkAsFmih",
        "outputId": "79c90610-608c-433b-a01e-d4d5c0585c05",
        "colab": {
          "base_uri": "https://localhost:8080/"
        }
      },
      "outputs": [
        {
          "output_type": "execute_result",
          "data": {
            "text/plain": [
              "True"
            ]
          },
          "metadata": {},
          "execution_count": 50
        }
      ],
      "source": [
        "'abc123'.isalnum()"
      ]
    },
    {
      "cell_type": "code",
      "execution_count": 51,
      "metadata": {
        "id": "u8L8942FFmih",
        "outputId": "75125a7d-2747-4a35-a104-488803aafa91",
        "colab": {
          "base_uri": "https://localhost:8080/"
        }
      },
      "outputs": [
        {
          "output_type": "execute_result",
          "data": {
            "text/plain": [
              "False"
            ]
          },
          "metadata": {},
          "execution_count": 51
        }
      ],
      "source": [
        "'1+1'.isalnum()"
      ]
    },
    {
      "cell_type": "markdown",
      "metadata": {
        "id": "f7V_36bbFmih"
      },
      "source": [
        "## String splitting and joining"
      ]
    },
    {
      "cell_type": "code",
      "execution_count": 52,
      "metadata": {
        "id": "DKi6PZhoFmih",
        "outputId": "d62ec24f-63dc-4e48-de18-c9095d283eab",
        "colab": {
          "base_uri": "https://localhost:8080/"
        }
      },
      "outputs": [
        {
          "output_type": "execute_result",
          "data": {
            "text/plain": [
              "['I', 'am', 'a', 'comma', 'separated', 'string']"
            ]
          },
          "metadata": {},
          "execution_count": 52
        }
      ],
      "source": [
        "s = 'I,am,a,comma,separated,string'\n",
        "s.split(',')"
      ]
    },
    {
      "cell_type": "code",
      "execution_count": 53,
      "metadata": {
        "id": "ApiWOyyqFmih",
        "outputId": "841d72cc-6580-4786-be05-f3964cd2b838",
        "colab": {
          "base_uri": "https://localhost:8080/",
          "height": 36
        }
      },
      "outputs": [
        {
          "output_type": "execute_result",
          "data": {
            "text/plain": [
              "'I am a comma separated string'"
            ],
            "application/vnd.google.colaboratory.intrinsic+json": {
              "type": "string"
            }
          },
          "metadata": {},
          "execution_count": 53
        }
      ],
      "source": [
        "' '.join(s.split(','))"
      ]
    },
    {
      "cell_type": "code",
      "execution_count": 54,
      "metadata": {
        "id": "323tWwhhFmii",
        "outputId": "77004714-16cb-418d-d034-5360f5cbd7d1",
        "colab": {
          "base_uri": "https://localhost:8080/",
          "height": 36
        }
      },
      "outputs": [
        {
          "output_type": "execute_result",
          "data": {
            "text/plain": [
              "'   I am surrounded by spaces    '"
            ],
            "application/vnd.google.colaboratory.intrinsic+json": {
              "type": "string"
            }
          },
          "metadata": {},
          "execution_count": 54
        }
      ],
      "source": [
        "# stripping whitespace characters\n",
        "s = '   I am surrounded by spaces    '\n",
        "s"
      ]
    },
    {
      "cell_type": "code",
      "execution_count": 55,
      "metadata": {
        "id": "gECE9r4KFmii",
        "outputId": "bd84f6f6-11ba-4e46-90e2-ba8d1a1a7174",
        "colab": {
          "base_uri": "https://localhost:8080/",
          "height": 36
        }
      },
      "outputs": [
        {
          "output_type": "execute_result",
          "data": {
            "text/plain": [
              "'I am surrounded by spaces'"
            ],
            "application/vnd.google.colaboratory.intrinsic+json": {
              "type": "string"
            }
          },
          "metadata": {},
          "execution_count": 55
        }
      ],
      "source": [
        "s.strip()"
      ]
    },
    {
      "cell_type": "code",
      "execution_count": 56,
      "metadata": {
        "id": "zCjCM5J9Fmii",
        "outputId": "ed41f96c-2b38-4b0e-a127-20b21c59d101",
        "colab": {
          "base_uri": "https://localhost:8080/"
        }
      },
      "outputs": [
        {
          "output_type": "execute_result",
          "data": {
            "text/plain": [
              "['Python is great', ' NLP is also good', '']"
            ]
          },
          "metadata": {},
          "execution_count": 56
        }
      ],
      "source": [
        "sentences = 'Python is great. NLP is also good.'\n",
        "sentences.split('.')"
      ]
    },
    {
      "cell_type": "code",
      "execution_count": 57,
      "metadata": {
        "id": "UYOjAf4yFmii",
        "outputId": "ce162b5e-f188-4f47-ec23-551333e6633d",
        "colab": {
          "base_uri": "https://localhost:8080/"
        }
      },
      "outputs": [
        {
          "output_type": "stream",
          "name": "stdout",
          "text": [
            "Python is great\n",
            " NLP is also good\n",
            "\n"
          ]
        }
      ],
      "source": [
        "print('\\n'.join(sentences.split('.')))"
      ]
    },
    {
      "cell_type": "code",
      "execution_count": 58,
      "metadata": {
        "id": "HA6f00D1Fmii",
        "outputId": "c48b485b-f63b-430f-e3ee-71d091b4d191",
        "colab": {
          "base_uri": "https://localhost:8080/"
        }
      },
      "outputs": [
        {
          "output_type": "stream",
          "name": "stdout",
          "text": [
            "Python is great\n",
            "NLP is also good\n"
          ]
        }
      ],
      "source": [
        "print('\\n'.join([sentence.strip()\n",
        "                     for sentence in sentences.split('.')\n",
        "                         if sentence]))"
      ]
    },
    {
      "cell_type": "markdown",
      "metadata": {
        "id": "WCcu4i-_Fmii"
      },
      "source": [
        "# String formatting"
      ]
    },
    {
      "cell_type": "markdown",
      "metadata": {
        "id": "SNDwBKxaFmii"
      },
      "source": [
        "## Simple string formatting expressions - old style"
      ]
    },
    {
      "cell_type": "code",
      "execution_count": 59,
      "metadata": {
        "id": "B0ZHtDQ8Fmii",
        "outputId": "470e1b33-34e0-449a-eaef-cdb65ae54988",
        "colab": {
          "base_uri": "https://localhost:8080/",
          "height": 36
        }
      },
      "outputs": [
        {
          "output_type": "execute_result",
          "data": {
            "text/plain": [
              "'Hello Python!'"
            ],
            "application/vnd.google.colaboratory.intrinsic+json": {
              "type": "string"
            }
          },
          "metadata": {},
          "execution_count": 59
        }
      ],
      "source": [
        "'Hello %s' %('Python!')"
      ]
    },
    {
      "cell_type": "code",
      "execution_count": 60,
      "metadata": {
        "id": "ugzO8g_eFmii",
        "outputId": "da1da19c-7df5-45b1-fa2c-59298c070929",
        "colab": {
          "base_uri": "https://localhost:8080/",
          "height": 36
        }
      },
      "outputs": [
        {
          "output_type": "execute_result",
          "data": {
            "text/plain": [
              "'Hello World! How are you?'"
            ],
            "application/vnd.google.colaboratory.intrinsic+json": {
              "type": "string"
            }
          },
          "metadata": {},
          "execution_count": 60
        }
      ],
      "source": [
        "'Hello %s %s' %('World!', 'How are you?')"
      ]
    },
    {
      "cell_type": "markdown",
      "metadata": {
        "id": "Ysa6J6z9Fmii"
      },
      "source": [
        "## Formatting expressions with different data types - old style"
      ]
    },
    {
      "cell_type": "code",
      "execution_count": 61,
      "metadata": {
        "id": "SVBKHMn0Fmii",
        "outputId": "2da755b1-d758-4a5e-c4fa-30e6f2bea4f1",
        "colab": {
          "base_uri": "https://localhost:8080/",
          "height": 36
        }
      },
      "outputs": [
        {
          "output_type": "execute_result",
          "data": {
            "text/plain": [
              "'We have 2 bottles containing 2.50 gallons of milk'"
            ],
            "application/vnd.google.colaboratory.intrinsic+json": {
              "type": "string"
            }
          },
          "metadata": {},
          "execution_count": 61
        }
      ],
      "source": [
        "'We have %d %s containing %.2f gallons of %s' %(2, 'bottles', 2.5, 'milk')"
      ]
    },
    {
      "cell_type": "code",
      "execution_count": 62,
      "metadata": {
        "id": "oKxQoBjiFmij",
        "outputId": "4f3b2f53-1113-4722-8244-ee6efb456b80",
        "colab": {
          "base_uri": "https://localhost:8080/",
          "height": 36
        }
      },
      "outputs": [
        {
          "output_type": "execute_result",
          "data": {
            "text/plain": [
              "'We have 5 jugs containing 10.87 gallons of juice'"
            ],
            "application/vnd.google.colaboratory.intrinsic+json": {
              "type": "string"
            }
          },
          "metadata": {},
          "execution_count": 62
        }
      ],
      "source": [
        "'We have %d %s containing %.2f gallons of %s' %(5.21, 'jugs', 10.86763, 'juice')"
      ]
    },
    {
      "cell_type": "markdown",
      "metadata": {
        "id": "X-eLrNtTFmij"
      },
      "source": [
        "## Formatting strings using the format method - new style"
      ]
    },
    {
      "cell_type": "code",
      "execution_count": 63,
      "metadata": {
        "id": "_QhYDXLBFmij",
        "outputId": "9f5a4255-cf5f-4929-d65f-3313bfe74523",
        "colab": {
          "base_uri": "https://localhost:8080/",
          "height": 36
        }
      },
      "outputs": [
        {
          "output_type": "execute_result",
          "data": {
            "text/plain": [
              "'Hello Mr. Jones, it is a great pleasure to meet you at 5'"
            ],
            "application/vnd.google.colaboratory.intrinsic+json": {
              "type": "string"
            }
          },
          "metadata": {},
          "execution_count": 63
        }
      ],
      "source": [
        "'Hello {} {}, it is a great {} to meet you at {}'.format('Mr.', 'Jones', 'pleasure', 5)"
      ]
    },
    {
      "cell_type": "code",
      "execution_count": 64,
      "metadata": {
        "id": "n7g67flzFmij",
        "outputId": "7bd99352-19ee-4d4a-99db-83ce5a27c866",
        "colab": {
          "base_uri": "https://localhost:8080/",
          "height": 36
        }
      },
      "outputs": [
        {
          "output_type": "execute_result",
          "data": {
            "text/plain": [
              "\"Hello Sir Arthur, it is a great honor to meet you at 9 o' clock\""
            ],
            "application/vnd.google.colaboratory.intrinsic+json": {
              "type": "string"
            }
          },
          "metadata": {},
          "execution_count": 64
        }
      ],
      "source": [
        "'Hello {} {}, it is a great {} to meet you at {} o\\' clock'.format('Sir', 'Arthur', 'honor', 9)"
      ]
    },
    {
      "cell_type": "markdown",
      "metadata": {
        "id": "b8dXvX56Fmij"
      },
      "source": [
        "## Alternative ways of using string format"
      ]
    },
    {
      "cell_type": "code",
      "execution_count": 65,
      "metadata": {
        "id": "oUkezDgZFmij",
        "outputId": "cb30a70b-142c-45ac-ffc8-e3997b53f629",
        "colab": {
          "base_uri": "https://localhost:8080/",
          "height": 36
        }
      },
      "outputs": [
        {
          "output_type": "execute_result",
          "data": {
            "text/plain": [
              "'I have a sandwich and a soda with me'"
            ],
            "application/vnd.google.colaboratory.intrinsic+json": {
              "type": "string"
            }
          },
          "metadata": {},
          "execution_count": 65
        }
      ],
      "source": [
        "'I have a {food_item} and a {drink_item} with me'.format(drink_item='soda', food_item='sandwich')"
      ]
    },
    {
      "cell_type": "code",
      "execution_count": 66,
      "metadata": {
        "id": "xvfYYJhwFmik",
        "outputId": "03251d03-6967-48f9-ffe7-17924b7c7d93",
        "colab": {
          "base_uri": "https://localhost:8080/",
          "height": 36
        }
      },
      "outputs": [
        {
          "output_type": "execute_result",
          "data": {
            "text/plain": [
              "\"The dog has the following attributes: ['lazy', 'loyal']\""
            ],
            "application/vnd.google.colaboratory.intrinsic+json": {
              "type": "string"
            }
          },
          "metadata": {},
          "execution_count": 66
        }
      ],
      "source": [
        "'The {animal} has the following attributes: {attributes}'.format(animal='dog', attributes=['lazy', 'loyal'])"
      ]
    },
    {
      "cell_type": "markdown",
      "metadata": {
        "id": "8mSnZ4nTFmik"
      },
      "source": [
        "# Regular Expressions"
      ]
    },
    {
      "cell_type": "code",
      "execution_count": 67,
      "metadata": {
        "id": "40TSQxapFmik"
      },
      "outputs": [],
      "source": [
        "s1 = 'Python is an excellent language'\n",
        "s2 = 'I love the Python language. I also use Python to build applications at work!'"
      ]
    },
    {
      "cell_type": "code",
      "execution_count": 68,
      "metadata": {
        "id": "etIQ98G-Fmik"
      },
      "outputs": [],
      "source": [
        "import re\n",
        "\n",
        "pattern = 'python'\n",
        "# match only returns a match if regex match is found at the beginning of the string\n",
        "re.match(pattern, s1)"
      ]
    },
    {
      "cell_type": "code",
      "execution_count": 69,
      "metadata": {
        "id": "ZHWo3zg6Fmil",
        "outputId": "2d47e9f8-3ebe-4519-f62b-cee8d056ff02",
        "colab": {
          "base_uri": "https://localhost:8080/"
        }
      },
      "outputs": [
        {
          "output_type": "execute_result",
          "data": {
            "text/plain": [
              "<re.Match object; span=(0, 6), match='Python'>"
            ]
          },
          "metadata": {},
          "execution_count": 69
        }
      ],
      "source": [
        "# pattern is in lower case hence ignore case flag helps\n",
        "# in matching same pattern with different cases\n",
        "re.match(pattern, s1, flags=re.IGNORECASE)"
      ]
    },
    {
      "cell_type": "code",
      "execution_count": 70,
      "metadata": {
        "id": "fIhNFx3uFmil",
        "outputId": "2476ea7c-cae0-4ad5-8d2e-b220bba857fd",
        "colab": {
          "base_uri": "https://localhost:8080/"
        }
      },
      "outputs": [
        {
          "output_type": "stream",
          "name": "stdout",
          "text": [
            "Found match Python ranging from index 0 - 6 in the string \"Python is an excellent language\"\n"
          ]
        }
      ],
      "source": [
        "# printing matched string and its indices in the original string\n",
        "m = re.match(pattern, s1, flags=re.IGNORECASE)\n",
        "print('Found match {} ranging from index {} - {} in the string \"{}\"'.format(m.group(0),\n",
        "                                                                            m.start(),\n",
        "                                                                            m.end(), s1))"
      ]
    },
    {
      "cell_type": "code",
      "execution_count": 71,
      "metadata": {
        "id": "5aGU65inFmil"
      },
      "outputs": [],
      "source": [
        "# match does not work when pattern is not there in the beginning of string s2\n",
        "re.match(pattern, s2, re.IGNORECASE)"
      ]
    },
    {
      "cell_type": "code",
      "execution_count": 72,
      "metadata": {
        "id": "kFXZxy1jFmil",
        "outputId": "92f802da-34f5-4de9-af39-7cef0629beff",
        "colab": {
          "base_uri": "https://localhost:8080/"
        }
      },
      "outputs": [
        {
          "output_type": "execute_result",
          "data": {
            "text/plain": [
              "<re.Match object; span=(11, 17), match='Python'>"
            ]
          },
          "metadata": {},
          "execution_count": 72
        }
      ],
      "source": [
        "# illustrating find and search methods using the re module\n",
        "re.search(pattern, s2, re.IGNORECASE)"
      ]
    },
    {
      "cell_type": "code",
      "execution_count": 73,
      "metadata": {
        "id": "Jym4sPd5Fmil",
        "outputId": "2663496f-3428-44e2-c3af-05082ba6d128",
        "colab": {
          "base_uri": "https://localhost:8080/"
        }
      },
      "outputs": [
        {
          "output_type": "execute_result",
          "data": {
            "text/plain": [
              "['Python', 'Python']"
            ]
          },
          "metadata": {},
          "execution_count": 73
        }
      ],
      "source": [
        "re.findall(pattern, s2, re.IGNORECASE)"
      ]
    },
    {
      "cell_type": "code",
      "execution_count": 74,
      "metadata": {
        "id": "bcWSvAEsFmil",
        "outputId": "9278bfa8-3936-4757-b161-9d580cd57206",
        "colab": {
          "base_uri": "https://localhost:8080/"
        }
      },
      "outputs": [
        {
          "output_type": "execute_result",
          "data": {
            "text/plain": [
              "<callable_iterator at 0x7f41ec3a5c60>"
            ]
          },
          "metadata": {},
          "execution_count": 74
        }
      ],
      "source": [
        "match_objs = re.finditer(pattern, s2, re.IGNORECASE)\n",
        "match_objs"
      ]
    },
    {
      "cell_type": "code",
      "execution_count": 75,
      "metadata": {
        "id": "T--cBQcSFmil",
        "outputId": "20627e94-7f6b-461f-e498-e7601d012f72",
        "colab": {
          "base_uri": "https://localhost:8080/"
        }
      },
      "outputs": [
        {
          "output_type": "stream",
          "name": "stdout",
          "text": [
            "String: I love the Python language. I also use Python to build applications at work!\n",
            "Found match \"Python\" ranging from index 11 - 17\n",
            "Found match \"Python\" ranging from index 39 - 45\n"
          ]
        }
      ],
      "source": [
        "print(\"String:\", s2)\n",
        "for m in match_objs:\n",
        "    print('Found match \"{}\" ranging from index {} - {}'.format(m.group(0),\n",
        "                                                               m.start(), m.end()))"
      ]
    },
    {
      "cell_type": "code",
      "execution_count": 76,
      "metadata": {
        "id": "Tg-F3aT8Fmim",
        "outputId": "e210319d-30ca-43ee-a1e5-21ccf34ccc60",
        "colab": {
          "base_uri": "https://localhost:8080/",
          "height": 36
        }
      },
      "outputs": [
        {
          "output_type": "execute_result",
          "data": {
            "text/plain": [
              "'I love the Java language. I also use Java to build applications at work!'"
            ],
            "application/vnd.google.colaboratory.intrinsic+json": {
              "type": "string"
            }
          },
          "metadata": {},
          "execution_count": 76
        }
      ],
      "source": [
        "# illustrating pattern substitution using sub and subn methods\n",
        "re.sub(pattern, 'Java', s2, flags=re.IGNORECASE)"
      ]
    },
    {
      "cell_type": "code",
      "execution_count": 77,
      "metadata": {
        "id": "hmvr0YKbFmim",
        "outputId": "b52d53a6-1832-4b1d-880d-1c1f12ad23b3",
        "colab": {
          "base_uri": "https://localhost:8080/"
        }
      },
      "outputs": [
        {
          "output_type": "execute_result",
          "data": {
            "text/plain": [
              "('I love the Java language. I also use Java to build applications at work!', 2)"
            ]
          },
          "metadata": {},
          "execution_count": 77
        }
      ],
      "source": [
        "re.subn(pattern, 'Java', s2, flags=re.IGNORECASE)"
      ]
    },
    {
      "cell_type": "code",
      "execution_count": 78,
      "metadata": {
        "id": "IHqOPf6xFmim",
        "outputId": "fcb1f712-4855-4c7d-d7c0-08e0a4467a21",
        "colab": {
          "base_uri": "https://localhost:8080/",
          "height": 36
        }
      },
      "outputs": [
        {
          "output_type": "execute_result",
          "data": {
            "text/plain": [
              "'Hèllo! this is Python 🐍'"
            ],
            "application/vnd.google.colaboratory.intrinsic+json": {
              "type": "string"
            }
          },
          "metadata": {},
          "execution_count": 78
        }
      ],
      "source": [
        "# dealing with unicode matching using regexes\n",
        "s = u'H\\u00e8llo! this is Python 🐍'\n",
        "s"
      ]
    },
    {
      "cell_type": "code",
      "execution_count": 79,
      "metadata": {
        "id": "ZD_DCeoTFmim",
        "outputId": "78a64e63-d0c1-4f1c-900a-387f1faa4b3b",
        "colab": {
          "base_uri": "https://localhost:8080/"
        }
      },
      "outputs": [
        {
          "output_type": "execute_result",
          "data": {
            "text/plain": [
              "['Hèllo', 'this', 'is', 'Python']"
            ]
          },
          "metadata": {},
          "execution_count": 79
        }
      ],
      "source": [
        "re.findall(r'\\w+', s)"
      ]
    },
    {
      "cell_type": "code",
      "execution_count": 80,
      "metadata": {
        "id": "0YunNkbRFmim",
        "outputId": "d710e8aa-6d3f-45fb-b681-2ce66d31bf4a",
        "colab": {
          "base_uri": "https://localhost:8080/"
        }
      },
      "outputs": [
        {
          "output_type": "execute_result",
          "data": {
            "text/plain": [
              "['Hèllo', 'Python']"
            ]
          },
          "metadata": {},
          "execution_count": 80
        }
      ],
      "source": [
        "re.findall(r\"[A-Z]\\w+\", s, re.UNICODE)"
      ]
    },
    {
      "cell_type": "code",
      "execution_count": 81,
      "metadata": {
        "id": "DUTBScrvFmim",
        "outputId": "30c0c1b8-3137-44a8-f059-1ffa06f27bc0",
        "colab": {
          "base_uri": "https://localhost:8080/"
        }
      },
      "outputs": [
        {
          "output_type": "execute_result",
          "data": {
            "text/plain": [
              "['🐍']"
            ]
          },
          "metadata": {},
          "execution_count": 81
        }
      ],
      "source": [
        "emoji_pattern = r\"['\\U0001F300-\\U0001F5FF'|'\\U0001F600-\\U0001F64F'|'\\U0001F680-\\U0001F6FF'|'\\u2600-\\u26FF\\u2700-\\u27BF']\"\n",
        "re.findall(emoji_pattern, s, re.UNICODE)"
      ]
    },
    {
      "cell_type": "markdown",
      "metadata": {
        "id": "YsdJf4g8Fmim"
      },
      "source": [
        "# Putting it all together - Basic Text Processing and Analysis"
      ]
    },
    {
      "cell_type": "code",
      "execution_count": 82,
      "metadata": {
        "id": "QR_DhfR6Fmin",
        "outputId": "587b30c6-1e71-4cad-f377-4e711ca1afdd",
        "colab": {
          "base_uri": "https://localhost:8080/"
        }
      },
      "outputs": [
        {
          "output_type": "stream",
          "name": "stdout",
          "text": [
            "Number of raw lines: 3331\n",
            "[\"[Alice's Adventures in Wonderland by Lewis Carroll 1865]\\n\", '\\n', 'CHAPTER I. Down the Rabbit-Hole\\n', '\\n', 'Alice was beginning to get very tired of sitting by her sister on the\\n']\n"
          ]
        },
        {
          "output_type": "stream",
          "name": "stderr",
          "text": [
            "[nltk_data] Downloading package gutenberg to /root/nltk_data...\n",
            "[nltk_data]   Package gutenberg is already up-to-date!\n"
          ]
        }
      ],
      "source": [
        "import nltk\n",
        "nltk.download('gutenberg')\n",
        "\n",
        "from nltk.corpus import gutenberg\n",
        "import matplotlib.pyplot as plt\n",
        "\n",
        "%matplotlib inline\n",
        "# https://web.stanford.edu/class/archive/linguist/linguist278/linguist278.1172/notes/carroll-alice.txt\n",
        "alice = gutenberg.open('carroll-alice.txt')\n",
        "alice = alice.readlines()\n",
        "\n",
        "print(f\"Number of raw lines: {len(alice)}\")\n",
        "print(alice[:5])"
      ]
    },
    {
      "cell_type": "code",
      "execution_count": 83,
      "metadata": {
        "id": "CvoGMzQ_Fmin",
        "colab": {
          "base_uri": "https://localhost:8080/"
        },
        "outputId": "2f0359f5-be3c-4108-c45e-508e2d7b02f7"
      },
      "outputs": [
        {
          "output_type": "execute_result",
          "data": {
            "text/plain": [
              "3331"
            ]
          },
          "metadata": {},
          "execution_count": 83
        }
      ],
      "source": [
        "len(alice)"
      ]
    },
    {
      "cell_type": "code",
      "execution_count": 84,
      "metadata": {
        "id": "78QUnrp9Fmin",
        "colab": {
          "base_uri": "https://localhost:8080/"
        },
        "outputId": "da4e75d0-9d26-4c13-f34a-93160a99e227"
      },
      "outputs": [
        {
          "output_type": "execute_result",
          "data": {
            "text/plain": [
              "[\"[Alice's Adventures in Wonderland by Lewis Carroll 1865]\",\n",
              " 'CHAPTER I. Down the Rabbit-Hole',\n",
              " 'Alice was beginning to get very tired of sitting by her sister on the',\n",
              " 'bank, and of having nothing to do: once or twice she had peeped into the',\n",
              " 'book her sister was reading, but it had no pictures or conversations in']"
            ]
          },
          "metadata": {},
          "execution_count": 84
        }
      ],
      "source": [
        "alice = list(filter(None, [item.strip('\\n') for item in alice]))\n",
        "alice[:5]"
      ]
    },
    {
      "cell_type": "code",
      "execution_count": 85,
      "metadata": {
        "id": "vdPzlqvRFmin",
        "colab": {
          "base_uri": "https://localhost:8080/"
        },
        "outputId": "5c0b045a-c112-466a-a6fe-12822183571f"
      },
      "outputs": [
        {
          "output_type": "execute_result",
          "data": {
            "text/plain": [
              "2479"
            ]
          },
          "metadata": {},
          "execution_count": 85
        }
      ],
      "source": [
        "len(alice)"
      ]
    },
    {
      "cell_type": "code",
      "execution_count": 86,
      "metadata": {
        "id": "slIOy8YgFmin",
        "colab": {
          "base_uri": "https://localhost:8080/",
          "height": 430
        },
        "outputId": "47b233a6-4635-4698-d8d6-075c76206e91"
      },
      "outputs": [
        {
          "output_type": "display_data",
          "data": {
            "text/plain": [
              "<Figure size 640x480 with 1 Axes>"
            ],
            "image/png": "[encoded data removed]"
          },
          "metadata": {}
        }
      ],
      "source": [
        "line_lengths = [len(sentence) for sentence in alice]\n",
        "h = plt.hist(line_lengths)"
      ]
    },
    {
      "cell_type": "code",
      "execution_count": 87,
      "metadata": {
        "id": "sMvqc47dFmin",
        "colab": {
          "base_uri": "https://localhost:8080/"
        },
        "outputId": "68114990-9955-41fe-f687-0ec0948a92e5"
      },
      "outputs": [
        {
          "output_type": "stream",
          "name": "stdout",
          "text": [
            "[[\"[Alice's\", 'Adventures', 'in', 'Wonderland', 'by', 'Lewis', 'Carroll', '1865]'], ['CHAPTER', 'I.', 'Down', 'the', 'Rabbit-Hole'], ['Alice', 'was', 'beginning', 'to', 'get', 'very', 'tired', 'of', 'sitting', 'by', 'her', 'sister', 'on', 'the'], ['bank,', 'and', 'of', 'having', 'nothing', 'to', 'do:', 'once', 'or', 'twice', 'she', 'had', 'peeped', 'into', 'the'], ['book', 'her', 'sister', 'was', 'reading,', 'but', 'it', 'had', 'no', 'pictures', 'or', 'conversations', 'in']]\n"
          ]
        }
      ],
      "source": [
        "tokens = [item.split() for item in alice]\n",
        "print(tokens[:5])"
      ]
    },
    {
      "cell_type": "code",
      "execution_count": 88,
      "metadata": {
        "id": "vw6vZql0Fmin",
        "colab": {
          "base_uri": "https://localhost:8080/",
          "height": 430
        },
        "outputId": "94beed86-2e54-4078-8d4b-4ba92a6ccbcf"
      },
      "outputs": [
        {
          "output_type": "display_data",
          "data": {
            "text/plain": [
              "<Figure size 640x480 with 1 Axes>"
            ],
            "image/png": "[encoded data removed]"
          },
          "metadata": {}
        }
      ],
      "source": [
        "total_tokens_per_line = [len(sentence.split()) for sentence in alice]\n",
        "h = plt.hist(total_tokens_per_line, color='orange')"
      ]
    },
    {
      "cell_type": "code",
      "execution_count": 89,
      "metadata": {
        "id": "Rd5cfxb2Fmin",
        "colab": {
          "base_uri": "https://localhost:8080/"
        },
        "outputId": "042c63fe-53b0-4b94-b4f9-9b09f1a7598d"
      },
      "outputs": [
        {
          "output_type": "stream",
          "name": "stdout",
          "text": [
            "[\"[Alice's\", 'Adventures', 'in', 'Wonderland', 'by', 'Lewis', 'Carroll', '1865]', 'CHAPTER', 'I.', 'Down', 'the', 'Rabbit-Hole', 'Alice', 'was', 'beginning', 'to', 'get', 'very', 'tired']\n"
          ]
        }
      ],
      "source": [
        "words = [word for sentence in tokens for word in sentence]\n",
        "print(words[:20])"
      ]
    },
    {
      "cell_type": "code",
      "execution_count": 90,
      "metadata": {
        "id": "PR17DAkbFmin",
        "colab": {
          "base_uri": "https://localhost:8080/"
        },
        "outputId": "a61c12b0-b95b-4855-f246-e9e8179dad68"
      },
      "outputs": [
        {
          "output_type": "stream",
          "name": "stdout",
          "text": [
            "['Alices', 'Adventures', 'in', 'Wonderland', 'by', 'Lewis', 'Carroll', 'CHAPTER', 'I', 'Down', 'the', 'RabbitHole', 'Alice', 'was', 'beginning', 'to', 'get', 'very', 'tired', 'of']\n"
          ]
        }
      ],
      "source": [
        "words = list(filter(None, [re.sub(r'[^A-Za-z]', '', word) for word in words]))\n",
        "print(words[:20])"
      ]
    },
    {
      "cell_type": "code",
      "execution_count": 91,
      "metadata": {
        "id": "pOzQ8lS1Fmio",
        "colab": {
          "base_uri": "https://localhost:8080/"
        },
        "outputId": "5920cc60-485a-4c9c-b463-8edd93fcffdc"
      },
      "outputs": [
        {
          "output_type": "execute_result",
          "data": {
            "text/plain": [
              "[('the', 1629),\n",
              " ('and', 844),\n",
              " ('to', 721),\n",
              " ('a', 627),\n",
              " ('she', 537),\n",
              " ('it', 526),\n",
              " ('of', 508),\n",
              " ('said', 462),\n",
              " ('i', 400),\n",
              " ('alice', 385)]"
            ]
          },
          "metadata": {},
          "execution_count": 91
        }
      ],
      "source": [
        "from collections import Counter\n",
        "\n",
        "words = [word.lower() for word in words]\n",
        "c = Counter(words)\n",
        "c.most_common(10)"
      ]
    },
    {
      "cell_type": "code",
      "execution_count": 92,
      "metadata": {
        "id": "Rqwf93R5Fmio",
        "colab": {
          "base_uri": "https://localhost:8080/"
        },
        "outputId": "de3b3b21-f5f7-429f-d86d-8d8cb4018bbd"
      },
      "outputs": [
        {
          "output_type": "stream",
          "name": "stderr",
          "text": [
            "[nltk_data] Downloading package stopwords to /root/nltk_data...\n",
            "[nltk_data]   Package stopwords is already up-to-date!\n"
          ]
        },
        {
          "output_type": "execute_result",
          "data": {
            "text/plain": [
              "[('said', 462),\n",
              " ('alice', 385),\n",
              " ('little', 128),\n",
              " ('one', 101),\n",
              " ('know', 86),\n",
              " ('like', 85),\n",
              " ('would', 83),\n",
              " ('went', 83),\n",
              " ('could', 77),\n",
              " ('thought', 74)]"
            ]
          },
          "metadata": {},
          "execution_count": 92
        }
      ],
      "source": [
        "import nltk\n",
        "nltk.download('stopwords')\n",
        "stopwords = nltk.corpus.stopwords.words('english')\n",
        "words = [word.lower() for word in words if word.lower() not in stopwords]\n",
        "c = Counter(words)\n",
        "c.most_common(10)"
      ]
    },
    {
      "cell_type": "code",
      "execution_count": 93,
      "metadata": {
        "id": "EmGFPV2BFmio"
      },
      "outputs": [],
      "source": [
        "# That's all, folks! May your code compile on the first try, and may your debugging be shorter than your coffee break.\n",
        "\n",
        "# Your functions should return the correct values in this beautiful BAM-3034-OTT01 course!\n",
        "\n",
        "# Best of luck - Now do your lab homework---Hitham\n"
      ]
    }
  ],
  "metadata": {
    "anaconda-cloud": {},
    "kernelspec": {
      "display_name": "Python 3 (ipykernel)",
      "language": "python",
      "name": "python3"
    },
    "language_info": {
      "codemirror_mode": {
        "name": "ipython",
        "version": 3
      },
      "file_extension": ".py",
      "mimetype": "text/x-python",
      "name": "python",
      "nbconvert_exporter": "python",
      "pygments_lexer": "ipython3",
      "version": "3.11.5"
    },
    "colab": {
      "provenance": [],
      "include_colab_link": true
    }
  },
  "nbformat": 4,
  "nbformat_minor": 0
}